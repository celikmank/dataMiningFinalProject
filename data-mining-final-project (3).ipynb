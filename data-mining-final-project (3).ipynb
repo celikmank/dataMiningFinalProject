{
 "cells": [
  {
   "cell_type": "markdown",
   "id": "7ae72b27",
   "metadata": {
    "papermill": {
     "duration": 0.008557,
     "end_time": "2024-08-19T10:31:42.894167",
     "exception": false,
     "start_time": "2024-08-19T10:31:42.885610",
     "status": "completed"
    },
    "tags": []
   },
   "source": [
    "# Data Mining Final Project\n",
    "# Kerem Mehmet Çelikman B1905.090072\n",
    "# Dataset: Car Evulation dataset"
   ]
  },
  {
   "cell_type": "markdown",
   "id": "1cb8b76f",
   "metadata": {
    "_cell_guid": "b1076dfc-b9ad-4769-8c92-a6c4dae69d19",
    "_uuid": "8f2839f25d086af736a60e9eeb907d3b93b6e0e5",
    "execution": {
     "iopub.execute_input": "2024-08-19T07:40:21.081548Z",
     "iopub.status.busy": "2024-08-19T07:40:21.081078Z",
     "iopub.status.idle": "2024-08-19T07:40:21.086255Z",
     "shell.execute_reply": "2024-08-19T07:40:21.084978Z",
     "shell.execute_reply.started": "2024-08-19T07:40:21.081509Z"
    },
    "papermill": {
     "duration": 0.007538,
     "end_time": "2024-08-19T10:31:42.909979",
     "exception": false,
     "start_time": "2024-08-19T10:31:42.902441",
     "status": "completed"
    },
    "tags": []
   },
   "source": [
    "## Import Libraries"
   ]
  },
  {
   "cell_type": "code",
   "execution_count": 1,
   "id": "77685a57",
   "metadata": {
    "execution": {
     "iopub.execute_input": "2024-08-19T10:31:42.928650Z",
     "iopub.status.busy": "2024-08-19T10:31:42.928166Z",
     "iopub.status.idle": "2024-08-19T10:31:45.861284Z",
     "shell.execute_reply": "2024-08-19T10:31:45.859931Z"
    },
    "papermill": {
     "duration": 2.945563,
     "end_time": "2024-08-19T10:31:45.864122",
     "exception": false,
     "start_time": "2024-08-19T10:31:42.918559",
     "status": "completed"
    },
    "tags": []
   },
   "outputs": [],
   "source": [
    "import numpy as np \n",
    "import pandas as pd\n",
    "import matplotlib.pyplot as plt\n",
    "import seaborn as sns \n",
    "from sklearn.preprocessing import OrdinalEncoder\n",
    "from sklearn.model_selection import train_test_split\n",
    "from sklearn.tree import DecisionTreeClassifier\n",
    "from sklearn.metrics import accuracy_score\n",
    "from sklearn.metrics import classification_report"
   ]
  },
  {
   "cell_type": "markdown",
   "id": "0252a1e3",
   "metadata": {
    "papermill": {
     "duration": 0.00771,
     "end_time": "2024-08-19T10:31:45.880102",
     "exception": false,
     "start_time": "2024-08-19T10:31:45.872392",
     "status": "completed"
    },
    "tags": []
   },
   "source": [
    "## Import Data Set"
   ]
  },
  {
   "cell_type": "code",
   "execution_count": 2,
   "id": "e20cdf71",
   "metadata": {
    "execution": {
     "iopub.execute_input": "2024-08-19T10:31:45.899413Z",
     "iopub.status.busy": "2024-08-19T10:31:45.897823Z",
     "iopub.status.idle": "2024-08-19T10:31:45.924458Z",
     "shell.execute_reply": "2024-08-19T10:31:45.923122Z"
    },
    "papermill": {
     "duration": 0.039362,
     "end_time": "2024-08-19T10:31:45.927545",
     "exception": false,
     "start_time": "2024-08-19T10:31:45.888183",
     "status": "completed"
    },
    "tags": []
   },
   "outputs": [],
   "source": [
    "Data = pd.read_csv('/kaggle/input/car-evaluation-data-set/car_evaluation.csv',header = None)"
   ]
  },
  {
   "cell_type": "code",
   "execution_count": 3,
   "id": "6e002ec3",
   "metadata": {
    "execution": {
     "iopub.execute_input": "2024-08-19T10:31:45.945608Z",
     "iopub.status.busy": "2024-08-19T10:31:45.945136Z",
     "iopub.status.idle": "2024-08-19T10:31:45.981858Z",
     "shell.execute_reply": "2024-08-19T10:31:45.980615Z"
    },
    "papermill": {
     "duration": 0.048587,
     "end_time": "2024-08-19T10:31:45.984365",
     "exception": false,
     "start_time": "2024-08-19T10:31:45.935778",
     "status": "completed"
    },
    "tags": []
   },
   "outputs": [
    {
     "name": "stdout",
     "output_type": "stream",
     "text": [
      "<class 'pandas.core.frame.DataFrame'>\n",
      "RangeIndex: 1728 entries, 0 to 1727\n",
      "Data columns (total 7 columns):\n",
      " #   Column  Non-Null Count  Dtype \n",
      "---  ------  --------------  ----- \n",
      " 0   0       1728 non-null   object\n",
      " 1   1       1728 non-null   object\n",
      " 2   2       1728 non-null   object\n",
      " 3   3       1728 non-null   object\n",
      " 4   4       1728 non-null   object\n",
      " 5   5       1728 non-null   object\n",
      " 6   6       1728 non-null   object\n",
      "dtypes: object(7)\n",
      "memory usage: 94.6+ KB\n"
     ]
    }
   ],
   "source": [
    "Data.info() "
   ]
  },
  {
   "cell_type": "code",
   "execution_count": 4,
   "id": "97b95bd3",
   "metadata": {
    "execution": {
     "iopub.execute_input": "2024-08-19T10:31:46.002722Z",
     "iopub.status.busy": "2024-08-19T10:31:46.002259Z",
     "iopub.status.idle": "2024-08-19T10:31:46.023005Z",
     "shell.execute_reply": "2024-08-19T10:31:46.021787Z"
    },
    "papermill": {
     "duration": 0.032894,
     "end_time": "2024-08-19T10:31:46.025690",
     "exception": false,
     "start_time": "2024-08-19T10:31:45.992796",
     "status": "completed"
    },
    "tags": []
   },
   "outputs": [
    {
     "data": {
      "text/html": [
       "<div>\n",
       "<style scoped>\n",
       "    .dataframe tbody tr th:only-of-type {\n",
       "        vertical-align: middle;\n",
       "    }\n",
       "\n",
       "    .dataframe tbody tr th {\n",
       "        vertical-align: top;\n",
       "    }\n",
       "\n",
       "    .dataframe thead th {\n",
       "        text-align: right;\n",
       "    }\n",
       "</style>\n",
       "<table border=\"1\" class=\"dataframe\">\n",
       "  <thead>\n",
       "    <tr style=\"text-align: right;\">\n",
       "      <th></th>\n",
       "      <th>0</th>\n",
       "      <th>1</th>\n",
       "      <th>2</th>\n",
       "      <th>3</th>\n",
       "      <th>4</th>\n",
       "      <th>5</th>\n",
       "      <th>6</th>\n",
       "    </tr>\n",
       "  </thead>\n",
       "  <tbody>\n",
       "    <tr>\n",
       "      <th>0</th>\n",
       "      <td>vhigh</td>\n",
       "      <td>vhigh</td>\n",
       "      <td>2</td>\n",
       "      <td>2</td>\n",
       "      <td>small</td>\n",
       "      <td>low</td>\n",
       "      <td>unacc</td>\n",
       "    </tr>\n",
       "    <tr>\n",
       "      <th>1</th>\n",
       "      <td>vhigh</td>\n",
       "      <td>vhigh</td>\n",
       "      <td>2</td>\n",
       "      <td>2</td>\n",
       "      <td>small</td>\n",
       "      <td>med</td>\n",
       "      <td>unacc</td>\n",
       "    </tr>\n",
       "    <tr>\n",
       "      <th>2</th>\n",
       "      <td>vhigh</td>\n",
       "      <td>vhigh</td>\n",
       "      <td>2</td>\n",
       "      <td>2</td>\n",
       "      <td>small</td>\n",
       "      <td>high</td>\n",
       "      <td>unacc</td>\n",
       "    </tr>\n",
       "    <tr>\n",
       "      <th>3</th>\n",
       "      <td>vhigh</td>\n",
       "      <td>vhigh</td>\n",
       "      <td>2</td>\n",
       "      <td>2</td>\n",
       "      <td>med</td>\n",
       "      <td>low</td>\n",
       "      <td>unacc</td>\n",
       "    </tr>\n",
       "    <tr>\n",
       "      <th>4</th>\n",
       "      <td>vhigh</td>\n",
       "      <td>vhigh</td>\n",
       "      <td>2</td>\n",
       "      <td>2</td>\n",
       "      <td>med</td>\n",
       "      <td>med</td>\n",
       "      <td>unacc</td>\n",
       "    </tr>\n",
       "  </tbody>\n",
       "</table>\n",
       "</div>"
      ],
      "text/plain": [
       "       0      1  2  3      4     5      6\n",
       "0  vhigh  vhigh  2  2  small   low  unacc\n",
       "1  vhigh  vhigh  2  2  small   med  unacc\n",
       "2  vhigh  vhigh  2  2  small  high  unacc\n",
       "3  vhigh  vhigh  2  2    med   low  unacc\n",
       "4  vhigh  vhigh  2  2    med   med  unacc"
      ]
     },
     "execution_count": 4,
     "metadata": {},
     "output_type": "execute_result"
    }
   ],
   "source": [
    "Data.head()"
   ]
  },
  {
   "cell_type": "markdown",
   "id": "b6e5258b",
   "metadata": {
    "papermill": {
     "duration": 0.008156,
     "end_time": "2024-08-19T10:31:46.043947",
     "exception": false,
     "start_time": "2024-08-19T10:31:46.035791",
     "status": "completed"
    },
    "tags": []
   },
   "source": [
    "# Rename column names\n"
   ]
  },
  {
   "cell_type": "markdown",
   "id": "2be68029",
   "metadata": {
    "papermill": {
     "duration": 0.009883,
     "end_time": "2024-08-19T10:31:46.062270",
     "exception": false,
     "start_time": "2024-08-19T10:31:46.052387",
     "status": "completed"
    },
    "tags": []
   },
   "source": [
    "-**Values** vhigh (Very high) , high , Med (Medium) , low\n",
    "\n",
    "- **buying :** the price of buying car. The values (vhigh , high, med , low).\n",
    "- **maint :** price of the maintenance. The values (vhigh , high, med , low).\n",
    "- **doors :** the number of doors in car . This attribute is numeric.\n",
    "- **persons :** capacity in terms of persons to carry. This attribute is numeric.\n",
    "- **lug_boot :** The capacity of the size of luggage boot. The values (small ,med ,big )\n",
    "- **safety :** Describe estimated safety of the car. The values (Low , med , big).\n",
    "- **class :** evaulation level (unacceptable, acceptable, good, very good)."
   ]
  },
  {
   "cell_type": "code",
   "execution_count": 5,
   "id": "bb47ef8a",
   "metadata": {
    "execution": {
     "iopub.execute_input": "2024-08-19T10:31:46.082354Z",
     "iopub.status.busy": "2024-08-19T10:31:46.081084Z",
     "iopub.status.idle": "2024-08-19T10:31:46.090151Z",
     "shell.execute_reply": "2024-08-19T10:31:46.088900Z"
    },
    "papermill": {
     "duration": 0.021861,
     "end_time": "2024-08-19T10:31:46.092822",
     "exception": false,
     "start_time": "2024-08-19T10:31:46.070961",
     "status": "completed"
    },
    "tags": []
   },
   "outputs": [
    {
     "data": {
      "text/plain": [
       "Index(['buying', 'maint', 'doors', 'persons', 'lug_boot', 'safety', 'class'], dtype='object')"
      ]
     },
     "execution_count": 5,
     "metadata": {},
     "output_type": "execute_result"
    }
   ],
   "source": [
    "Column_Name = ['buying','maint', 'doors', 'persons', 'lug_boot', 'safety' ,'class']\n",
    "Data.columns = Column_Name\n",
    "Data.columns"
   ]
  },
  {
   "cell_type": "code",
   "execution_count": 6,
   "id": "95cb7346",
   "metadata": {
    "execution": {
     "iopub.execute_input": "2024-08-19T10:31:46.112218Z",
     "iopub.status.busy": "2024-08-19T10:31:46.111739Z",
     "iopub.status.idle": "2024-08-19T10:31:46.126737Z",
     "shell.execute_reply": "2024-08-19T10:31:46.125532Z"
    },
    "papermill": {
     "duration": 0.027564,
     "end_time": "2024-08-19T10:31:46.129208",
     "exception": false,
     "start_time": "2024-08-19T10:31:46.101644",
     "status": "completed"
    },
    "tags": []
   },
   "outputs": [
    {
     "data": {
      "text/html": [
       "<div>\n",
       "<style scoped>\n",
       "    .dataframe tbody tr th:only-of-type {\n",
       "        vertical-align: middle;\n",
       "    }\n",
       "\n",
       "    .dataframe tbody tr th {\n",
       "        vertical-align: top;\n",
       "    }\n",
       "\n",
       "    .dataframe thead th {\n",
       "        text-align: right;\n",
       "    }\n",
       "</style>\n",
       "<table border=\"1\" class=\"dataframe\">\n",
       "  <thead>\n",
       "    <tr style=\"text-align: right;\">\n",
       "      <th></th>\n",
       "      <th>buying</th>\n",
       "      <th>maint</th>\n",
       "      <th>doors</th>\n",
       "      <th>persons</th>\n",
       "      <th>lug_boot</th>\n",
       "      <th>safety</th>\n",
       "      <th>class</th>\n",
       "    </tr>\n",
       "  </thead>\n",
       "  <tbody>\n",
       "    <tr>\n",
       "      <th>0</th>\n",
       "      <td>vhigh</td>\n",
       "      <td>vhigh</td>\n",
       "      <td>2</td>\n",
       "      <td>2</td>\n",
       "      <td>small</td>\n",
       "      <td>low</td>\n",
       "      <td>unacc</td>\n",
       "    </tr>\n",
       "    <tr>\n",
       "      <th>1</th>\n",
       "      <td>vhigh</td>\n",
       "      <td>vhigh</td>\n",
       "      <td>2</td>\n",
       "      <td>2</td>\n",
       "      <td>small</td>\n",
       "      <td>med</td>\n",
       "      <td>unacc</td>\n",
       "    </tr>\n",
       "    <tr>\n",
       "      <th>2</th>\n",
       "      <td>vhigh</td>\n",
       "      <td>vhigh</td>\n",
       "      <td>2</td>\n",
       "      <td>2</td>\n",
       "      <td>small</td>\n",
       "      <td>high</td>\n",
       "      <td>unacc</td>\n",
       "    </tr>\n",
       "    <tr>\n",
       "      <th>3</th>\n",
       "      <td>vhigh</td>\n",
       "      <td>vhigh</td>\n",
       "      <td>2</td>\n",
       "      <td>2</td>\n",
       "      <td>med</td>\n",
       "      <td>low</td>\n",
       "      <td>unacc</td>\n",
       "    </tr>\n",
       "    <tr>\n",
       "      <th>4</th>\n",
       "      <td>vhigh</td>\n",
       "      <td>vhigh</td>\n",
       "      <td>2</td>\n",
       "      <td>2</td>\n",
       "      <td>med</td>\n",
       "      <td>med</td>\n",
       "      <td>unacc</td>\n",
       "    </tr>\n",
       "  </tbody>\n",
       "</table>\n",
       "</div>"
      ],
      "text/plain": [
       "  buying  maint doors persons lug_boot safety  class\n",
       "0  vhigh  vhigh     2       2    small    low  unacc\n",
       "1  vhigh  vhigh     2       2    small    med  unacc\n",
       "2  vhigh  vhigh     2       2    small   high  unacc\n",
       "3  vhigh  vhigh     2       2      med    low  unacc\n",
       "4  vhigh  vhigh     2       2      med    med  unacc"
      ]
     },
     "execution_count": 6,
     "metadata": {},
     "output_type": "execute_result"
    }
   ],
   "source": [
    "Data.head()"
   ]
  },
  {
   "cell_type": "markdown",
   "id": "3026e3f4",
   "metadata": {
    "papermill": {
     "duration": 0.009188,
     "end_time": "2024-08-19T10:31:46.147879",
     "exception": false,
     "start_time": "2024-08-19T10:31:46.138691",
     "status": "completed"
    },
    "tags": []
   },
   "source": [
    "# Checking null variables"
   ]
  },
  {
   "cell_type": "code",
   "execution_count": 7,
   "id": "9c0b3136",
   "metadata": {
    "execution": {
     "iopub.execute_input": "2024-08-19T10:31:46.169923Z",
     "iopub.status.busy": "2024-08-19T10:31:46.168345Z",
     "iopub.status.idle": "2024-08-19T10:31:46.179558Z",
     "shell.execute_reply": "2024-08-19T10:31:46.178248Z"
    },
    "papermill": {
     "duration": 0.025247,
     "end_time": "2024-08-19T10:31:46.182147",
     "exception": false,
     "start_time": "2024-08-19T10:31:46.156900",
     "status": "completed"
    },
    "tags": []
   },
   "outputs": [
    {
     "data": {
      "text/plain": [
       "buying      0\n",
       "maint       0\n",
       "doors       0\n",
       "persons     0\n",
       "lug_boot    0\n",
       "safety      0\n",
       "class       0\n",
       "dtype: int64"
      ]
     },
     "execution_count": 7,
     "metadata": {},
     "output_type": "execute_result"
    }
   ],
   "source": [
    "Data.isnull().sum()"
   ]
  },
  {
   "cell_type": "code",
   "execution_count": 8,
   "id": "2f5e937b",
   "metadata": {
    "execution": {
     "iopub.execute_input": "2024-08-19T10:31:46.202240Z",
     "iopub.status.busy": "2024-08-19T10:31:46.201736Z",
     "iopub.status.idle": "2024-08-19T10:31:46.217577Z",
     "shell.execute_reply": "2024-08-19T10:31:46.216334Z"
    },
    "papermill": {
     "duration": 0.029577,
     "end_time": "2024-08-19T10:31:46.220729",
     "exception": false,
     "start_time": "2024-08-19T10:31:46.191152",
     "status": "completed"
    },
    "tags": []
   },
   "outputs": [
    {
     "name": "stdout",
     "output_type": "stream",
     "text": [
      "buying\n",
      "vhigh    432\n",
      "high     432\n",
      "med      432\n",
      "low      432\n",
      "Name: count, dtype: int64\n",
      "----------------------------------------\n",
      "maint\n",
      "vhigh    432\n",
      "high     432\n",
      "med      432\n",
      "low      432\n",
      "Name: count, dtype: int64\n",
      "----------------------------------------\n",
      "doors\n",
      "2        432\n",
      "3        432\n",
      "4        432\n",
      "5more    432\n",
      "Name: count, dtype: int64\n",
      "----------------------------------------\n",
      "persons\n",
      "2       576\n",
      "4       576\n",
      "more    576\n",
      "Name: count, dtype: int64\n",
      "----------------------------------------\n",
      "lug_boot\n",
      "small    576\n",
      "med      576\n",
      "big      576\n",
      "Name: count, dtype: int64\n",
      "----------------------------------------\n",
      "safety\n",
      "low     576\n",
      "med     576\n",
      "high    576\n",
      "Name: count, dtype: int64\n",
      "----------------------------------------\n",
      "class\n",
      "unacc    1210\n",
      "acc       384\n",
      "good       69\n",
      "vgood      65\n",
      "Name: count, dtype: int64\n",
      "----------------------------------------\n"
     ]
    }
   ],
   "source": [
    "for var in Column_Name:\n",
    "    print(Data[var].value_counts())\n",
    "    print('-'*40)"
   ]
  },
  {
   "cell_type": "markdown",
   "id": "90441df5",
   "metadata": {
    "papermill": {
     "duration": 0.008751,
     "end_time": "2024-08-19T10:31:46.238505",
     "exception": false,
     "start_time": "2024-08-19T10:31:46.229754",
     "status": "completed"
    },
    "tags": []
   },
   "source": [
    "- Here , Our data contain a 7 object variables.\n",
    "- *buying* , *maint* , *doors* , *persons* , *lug_boot* ,*safety* are Features variables.\n",
    "- *class* is target variable."
   ]
  },
  {
   "cell_type": "code",
   "execution_count": 9,
   "id": "81f11779",
   "metadata": {
    "execution": {
     "iopub.execute_input": "2024-08-19T10:31:46.258819Z",
     "iopub.status.busy": "2024-08-19T10:31:46.258323Z",
     "iopub.status.idle": "2024-08-19T10:31:46.271188Z",
     "shell.execute_reply": "2024-08-19T10:31:46.269401Z"
    },
    "papermill": {
     "duration": 0.02629,
     "end_time": "2024-08-19T10:31:46.273625",
     "exception": false,
     "start_time": "2024-08-19T10:31:46.247335",
     "status": "completed"
    },
    "tags": []
   },
   "outputs": [
    {
     "name": "stdout",
     "output_type": "stream",
     "text": [
      "Column : buying \n",
      "\n",
      "['vhigh' 'high' 'med' 'low']\n",
      "________________________________________\n",
      "Column : maint \n",
      "\n",
      "['vhigh' 'high' 'med' 'low']\n",
      "________________________________________\n",
      "Column : doors \n",
      "\n",
      "['2' '3' '4' '5more']\n",
      "________________________________________\n",
      "Column : persons \n",
      "\n",
      "['2' '4' 'more']\n",
      "________________________________________\n",
      "Column : lug_boot \n",
      "\n",
      "['small' 'med' 'big']\n",
      "________________________________________\n",
      "Column : safety \n",
      "\n",
      "['low' 'med' 'high']\n",
      "________________________________________\n",
      "Column : class \n",
      "\n",
      "['unacc' 'acc' 'vgood' 'good']\n",
      "________________________________________\n"
     ]
    }
   ],
   "source": [
    "for var in Column_Name:\n",
    "    print(\"Column :\",var ,\"\\n\")\n",
    "    print(Data[var].unique())\n",
    "    print('_'*40)"
   ]
  },
  {
   "cell_type": "markdown",
   "id": "05f14a98",
   "metadata": {
    "papermill": {
     "duration": 0.008967,
     "end_time": "2024-08-19T10:31:46.291858",
     "exception": false,
     "start_time": "2024-08-19T10:31:46.282891",
     "status": "completed"
    },
    "tags": []
   },
   "source": [
    "##  Feature Engineering"
   ]
  },
  {
   "cell_type": "markdown",
   "id": "3ba5a72a",
   "metadata": {
    "papermill": {
     "duration": 0.008687,
     "end_time": "2024-08-19T10:31:46.309937",
     "exception": false,
     "start_time": "2024-08-19T10:31:46.301250",
     "status": "completed"
    },
    "tags": []
   },
   "source": [
    "- (doors , persons) columns contains category values (doors --> '5more') and (person --> 'more').\n",
    "\n",
    "- So we nedd to replace these values with other values to convert these columns to numeric columns. "
   ]
  },
  {
   "cell_type": "code",
   "execution_count": 10,
   "id": "57c12b11",
   "metadata": {
    "execution": {
     "iopub.execute_input": "2024-08-19T10:31:46.330109Z",
     "iopub.status.busy": "2024-08-19T10:31:46.329578Z",
     "iopub.status.idle": "2024-08-19T10:31:46.338964Z",
     "shell.execute_reply": "2024-08-19T10:31:46.337660Z"
    },
    "papermill": {
     "duration": 0.022612,
     "end_time": "2024-08-19T10:31:46.341647",
     "exception": false,
     "start_time": "2024-08-19T10:31:46.319035",
     "status": "completed"
    },
    "tags": []
   },
   "outputs": [],
   "source": [
    "Data['doors'] = np.where(Data['doors'] == '5more' , '5' ,Data['doors'])\n",
    "Data['persons'] = np.where(Data['persons'] == 'more' , '5' ,Data['persons'])"
   ]
  },
  {
   "cell_type": "code",
   "execution_count": 11,
   "id": "f22dbd60",
   "metadata": {
    "execution": {
     "iopub.execute_input": "2024-08-19T10:31:46.362255Z",
     "iopub.status.busy": "2024-08-19T10:31:46.361737Z",
     "iopub.status.idle": "2024-08-19T10:31:46.369353Z",
     "shell.execute_reply": "2024-08-19T10:31:46.368055Z"
    },
    "papermill": {
     "duration": 0.021284,
     "end_time": "2024-08-19T10:31:46.372123",
     "exception": false,
     "start_time": "2024-08-19T10:31:46.350839",
     "status": "completed"
    },
    "tags": []
   },
   "outputs": [],
   "source": [
    "Data['doors'] = Data['doors'].astype(int)\n",
    "Data['persons'] = Data['persons'].astype(int)"
   ]
  },
  {
   "cell_type": "code",
   "execution_count": 12,
   "id": "155e6453",
   "metadata": {
    "execution": {
     "iopub.execute_input": "2024-08-19T10:31:46.393045Z",
     "iopub.status.busy": "2024-08-19T10:31:46.392557Z",
     "iopub.status.idle": "2024-08-19T10:31:46.401947Z",
     "shell.execute_reply": "2024-08-19T10:31:46.400647Z"
    },
    "papermill": {
     "duration": 0.023098,
     "end_time": "2024-08-19T10:31:46.404662",
     "exception": false,
     "start_time": "2024-08-19T10:31:46.381564",
     "status": "completed"
    },
    "tags": []
   },
   "outputs": [
    {
     "data": {
      "text/plain": [
       "['buying', 'maint', 'lug_boot', 'safety', 'class']"
      ]
     },
     "execution_count": 12,
     "metadata": {},
     "output_type": "execute_result"
    }
   ],
   "source": [
    "Categories = [var for var in Data.columns if Data[var].dtype == 'O']\n",
    "Categories"
   ]
  },
  {
   "cell_type": "markdown",
   "id": "383ebc96",
   "metadata": {
    "papermill": {
     "duration": 0.009098,
     "end_time": "2024-08-19T10:31:46.423259",
     "exception": false,
     "start_time": "2024-08-19T10:31:46.414161",
     "status": "completed"
    },
    "tags": []
   },
   "source": [
    "###  Encode the non numerical value to numerical values\n",
    "* The values in categories column is ordinal. That is meaning to encode these columns we use only (**LabelEncoder** or **OrdinalEncoder**). "
   ]
  },
  {
   "cell_type": "code",
   "execution_count": 13,
   "id": "04ced839",
   "metadata": {
    "execution": {
     "iopub.execute_input": "2024-08-19T10:31:46.444835Z",
     "iopub.status.busy": "2024-08-19T10:31:46.443910Z",
     "iopub.status.idle": "2024-08-19T10:31:46.466405Z",
     "shell.execute_reply": "2024-08-19T10:31:46.464846Z"
    },
    "papermill": {
     "duration": 0.036393,
     "end_time": "2024-08-19T10:31:46.469145",
     "exception": false,
     "start_time": "2024-08-19T10:31:46.432752",
     "status": "completed"
    },
    "tags": []
   },
   "outputs": [
    {
     "name": "stdout",
     "output_type": "stream",
     "text": [
      "<class 'pandas.core.frame.DataFrame'>\n",
      "RangeIndex: 1728 entries, 0 to 1727\n",
      "Data columns (total 7 columns):\n",
      " #   Column    Non-Null Count  Dtype  \n",
      "---  ------    --------------  -----  \n",
      " 0   buying    1728 non-null   float64\n",
      " 1   maint     1728 non-null   float64\n",
      " 2   doors     1728 non-null   int64  \n",
      " 3   persons   1728 non-null   int64  \n",
      " 4   lug_boot  1728 non-null   float64\n",
      " 5   safety    1728 non-null   float64\n",
      " 6   class     1728 non-null   float64\n",
      "dtypes: float64(5), int64(2)\n",
      "memory usage: 94.6 KB\n"
     ]
    }
   ],
   "source": [
    "encoder = OrdinalEncoder()\n",
    "Data[Categories] = encoder.fit_transform(Data[Categories])\n",
    "Data.info()"
   ]
  },
  {
   "cell_type": "code",
   "execution_count": 14,
   "id": "77010e3c",
   "metadata": {
    "execution": {
     "iopub.execute_input": "2024-08-19T10:31:46.489943Z",
     "iopub.status.busy": "2024-08-19T10:31:46.489505Z",
     "iopub.status.idle": "2024-08-19T10:31:46.504937Z",
     "shell.execute_reply": "2024-08-19T10:31:46.503690Z"
    },
    "papermill": {
     "duration": 0.029166,
     "end_time": "2024-08-19T10:31:46.507711",
     "exception": false,
     "start_time": "2024-08-19T10:31:46.478545",
     "status": "completed"
    },
    "tags": []
   },
   "outputs": [
    {
     "name": "stdout",
     "output_type": "stream",
     "text": [
      "<class 'pandas.core.frame.DataFrame'>\n",
      "RangeIndex: 1728 entries, 0 to 1727\n",
      "Data columns (total 7 columns):\n",
      " #   Column    Non-Null Count  Dtype\n",
      "---  ------    --------------  -----\n",
      " 0   buying    1728 non-null   int64\n",
      " 1   maint     1728 non-null   int64\n",
      " 2   doors     1728 non-null   int64\n",
      " 3   persons   1728 non-null   int64\n",
      " 4   lug_boot  1728 non-null   int64\n",
      " 5   safety    1728 non-null   int64\n",
      " 6   class     1728 non-null   int64\n",
      "dtypes: int64(7)\n",
      "memory usage: 94.6 KB\n"
     ]
    }
   ],
   "source": [
    "Data['buying'] = Data['buying'].astype(int)\n",
    "Data['maint'] = Data['maint'].astype(int)\n",
    "Data['lug_boot'] = Data['lug_boot'].astype(int)\n",
    "Data['safety'] = Data['safety'].astype(int)\n",
    "Data['class'] = Data['class'].astype(int)\n",
    "Data.info()"
   ]
  },
  {
   "cell_type": "markdown",
   "id": "6f367144",
   "metadata": {
    "papermill": {
     "duration": 0.009143,
     "end_time": "2024-08-19T10:31:46.526432",
     "exception": false,
     "start_time": "2024-08-19T10:31:46.517289",
     "status": "completed"
    },
    "tags": []
   },
   "source": [
    "## Declare Predictor and Responce Variables\n"
   ]
  },
  {
   "cell_type": "code",
   "execution_count": 15,
   "id": "b3cd59fe",
   "metadata": {
    "execution": {
     "iopub.execute_input": "2024-08-19T10:31:46.547814Z",
     "iopub.status.busy": "2024-08-19T10:31:46.546832Z",
     "iopub.status.idle": "2024-08-19T10:31:46.556315Z",
     "shell.execute_reply": "2024-08-19T10:31:46.554912Z"
    },
    "papermill": {
     "duration": 0.022928,
     "end_time": "2024-08-19T10:31:46.558830",
     "exception": false,
     "start_time": "2024-08-19T10:31:46.535902",
     "status": "completed"
    },
    "tags": []
   },
   "outputs": [],
   "source": [
    "X = Data.drop(['class'] , axis = 1)\n",
    "Y = Data['class']"
   ]
  },
  {
   "cell_type": "markdown",
   "id": "91bb8182",
   "metadata": {
    "papermill": {
     "duration": 0.008962,
     "end_time": "2024-08-19T10:31:46.577196",
     "exception": false,
     "start_time": "2024-08-19T10:31:46.568234",
     "status": "completed"
    },
    "tags": []
   },
   "source": [
    "##  Split the data into training and test data"
   ]
  },
  {
   "cell_type": "code",
   "execution_count": 16,
   "id": "ef668b9f",
   "metadata": {
    "execution": {
     "iopub.execute_input": "2024-08-19T10:31:46.598294Z",
     "iopub.status.busy": "2024-08-19T10:31:46.597796Z",
     "iopub.status.idle": "2024-08-19T10:31:46.608623Z",
     "shell.execute_reply": "2024-08-19T10:31:46.607473Z"
    },
    "papermill": {
     "duration": 0.025165,
     "end_time": "2024-08-19T10:31:46.611450",
     "exception": false,
     "start_time": "2024-08-19T10:31:46.586285",
     "status": "completed"
    },
    "tags": []
   },
   "outputs": [],
   "source": [
    "X_train, X_test,Y_train,Y_test = train_test_split(X , Y ,test_size = 0.25 , random_state = 42) "
   ]
  },
  {
   "cell_type": "code",
   "execution_count": 17,
   "id": "7193fd9b",
   "metadata": {
    "execution": {
     "iopub.execute_input": "2024-08-19T10:31:46.633181Z",
     "iopub.status.busy": "2024-08-19T10:31:46.632700Z",
     "iopub.status.idle": "2024-08-19T10:31:46.640140Z",
     "shell.execute_reply": "2024-08-19T10:31:46.638685Z"
    },
    "papermill": {
     "duration": 0.02134,
     "end_time": "2024-08-19T10:31:46.642416",
     "exception": false,
     "start_time": "2024-08-19T10:31:46.621076",
     "status": "completed"
    },
    "tags": []
   },
   "outputs": [
    {
     "name": "stdout",
     "output_type": "stream",
     "text": [
      "X Training set = (1296, 6)\n",
      "X Test set = (432, 6)\n",
      "Y Training set = (1296,)\n",
      "Y Test set = (432,)\n"
     ]
    }
   ],
   "source": [
    "#Get the shape of training and test data\n",
    "print(\"X Training set =\",X_train.shape)\n",
    "print(\"X Test set =\",X_test.shape)\n",
    "print(\"Y Training set =\",Y_train.shape)\n",
    "print(\"Y Test set =\",Y_test.shape)"
   ]
  },
  {
   "cell_type": "markdown",
   "id": "ae375231",
   "metadata": {
    "papermill": {
     "duration": 0.008703,
     "end_time": "2024-08-19T10:31:46.660081",
     "exception": false,
     "start_time": "2024-08-19T10:31:46.651378",
     "status": "completed"
    },
    "tags": []
   },
   "source": [
    "###  Build Decision tree model "
   ]
  },
  {
   "cell_type": "code",
   "execution_count": 18,
   "id": "2fc3589e",
   "metadata": {
    "execution": {
     "iopub.execute_input": "2024-08-19T10:31:46.681130Z",
     "iopub.status.busy": "2024-08-19T10:31:46.680634Z",
     "iopub.status.idle": "2024-08-19T10:31:46.698874Z",
     "shell.execute_reply": "2024-08-19T10:31:46.697468Z"
    },
    "papermill": {
     "duration": 0.03216,
     "end_time": "2024-08-19T10:31:46.701380",
     "exception": false,
     "start_time": "2024-08-19T10:31:46.669220",
     "status": "completed"
    },
    "tags": []
   },
   "outputs": [
    {
     "data": {
      "text/html": [
       "<style>#sk-container-id-1 {color: black;background-color: white;}#sk-container-id-1 pre{padding: 0;}#sk-container-id-1 div.sk-toggleable {background-color: white;}#sk-container-id-1 label.sk-toggleable__label {cursor: pointer;display: block;width: 100%;margin-bottom: 0;padding: 0.3em;box-sizing: border-box;text-align: center;}#sk-container-id-1 label.sk-toggleable__label-arrow:before {content: \"▸\";float: left;margin-right: 0.25em;color: #696969;}#sk-container-id-1 label.sk-toggleable__label-arrow:hover:before {color: black;}#sk-container-id-1 div.sk-estimator:hover label.sk-toggleable__label-arrow:before {color: black;}#sk-container-id-1 div.sk-toggleable__content {max-height: 0;max-width: 0;overflow: hidden;text-align: left;background-color: #f0f8ff;}#sk-container-id-1 div.sk-toggleable__content pre {margin: 0.2em;color: black;border-radius: 0.25em;background-color: #f0f8ff;}#sk-container-id-1 input.sk-toggleable__control:checked~div.sk-toggleable__content {max-height: 200px;max-width: 100%;overflow: auto;}#sk-container-id-1 input.sk-toggleable__control:checked~label.sk-toggleable__label-arrow:before {content: \"▾\";}#sk-container-id-1 div.sk-estimator input.sk-toggleable__control:checked~label.sk-toggleable__label {background-color: #d4ebff;}#sk-container-id-1 div.sk-label input.sk-toggleable__control:checked~label.sk-toggleable__label {background-color: #d4ebff;}#sk-container-id-1 input.sk-hidden--visually {border: 0;clip: rect(1px 1px 1px 1px);clip: rect(1px, 1px, 1px, 1px);height: 1px;margin: -1px;overflow: hidden;padding: 0;position: absolute;width: 1px;}#sk-container-id-1 div.sk-estimator {font-family: monospace;background-color: #f0f8ff;border: 1px dotted black;border-radius: 0.25em;box-sizing: border-box;margin-bottom: 0.5em;}#sk-container-id-1 div.sk-estimator:hover {background-color: #d4ebff;}#sk-container-id-1 div.sk-parallel-item::after {content: \"\";width: 100%;border-bottom: 1px solid gray;flex-grow: 1;}#sk-container-id-1 div.sk-label:hover label.sk-toggleable__label {background-color: #d4ebff;}#sk-container-id-1 div.sk-serial::before {content: \"\";position: absolute;border-left: 1px solid gray;box-sizing: border-box;top: 0;bottom: 0;left: 50%;z-index: 0;}#sk-container-id-1 div.sk-serial {display: flex;flex-direction: column;align-items: center;background-color: white;padding-right: 0.2em;padding-left: 0.2em;position: relative;}#sk-container-id-1 div.sk-item {position: relative;z-index: 1;}#sk-container-id-1 div.sk-parallel {display: flex;align-items: stretch;justify-content: center;background-color: white;position: relative;}#sk-container-id-1 div.sk-item::before, #sk-container-id-1 div.sk-parallel-item::before {content: \"\";position: absolute;border-left: 1px solid gray;box-sizing: border-box;top: 0;bottom: 0;left: 50%;z-index: -1;}#sk-container-id-1 div.sk-parallel-item {display: flex;flex-direction: column;z-index: 1;position: relative;background-color: white;}#sk-container-id-1 div.sk-parallel-item:first-child::after {align-self: flex-end;width: 50%;}#sk-container-id-1 div.sk-parallel-item:last-child::after {align-self: flex-start;width: 50%;}#sk-container-id-1 div.sk-parallel-item:only-child::after {width: 0;}#sk-container-id-1 div.sk-dashed-wrapped {border: 1px dashed gray;margin: 0 0.4em 0.5em 0.4em;box-sizing: border-box;padding-bottom: 0.4em;background-color: white;}#sk-container-id-1 div.sk-label label {font-family: monospace;font-weight: bold;display: inline-block;line-height: 1.2em;}#sk-container-id-1 div.sk-label-container {text-align: center;}#sk-container-id-1 div.sk-container {/* jupyter's `normalize.less` sets `[hidden] { display: none; }` but bootstrap.min.css set `[hidden] { display: none !important; }` so we also need the `!important` here to be able to override the default hidden behavior on the sphinx rendered scikit-learn.org. See: https://github.com/scikit-learn/scikit-learn/issues/21755 */display: inline-block !important;position: relative;}#sk-container-id-1 div.sk-text-repr-fallback {display: none;}</style><div id=\"sk-container-id-1\" class=\"sk-top-container\"><div class=\"sk-text-repr-fallback\"><pre>DecisionTreeClassifier()</pre><b>In a Jupyter environment, please rerun this cell to show the HTML representation or trust the notebook. <br />On GitHub, the HTML representation is unable to render, please try loading this page with nbviewer.org.</b></div><div class=\"sk-container\" hidden><div class=\"sk-item\"><div class=\"sk-estimator sk-toggleable\"><input class=\"sk-toggleable__control sk-hidden--visually\" id=\"sk-estimator-id-1\" type=\"checkbox\" checked><label for=\"sk-estimator-id-1\" class=\"sk-toggleable__label sk-toggleable__label-arrow\">DecisionTreeClassifier</label><div class=\"sk-toggleable__content\"><pre>DecisionTreeClassifier()</pre></div></div></div></div></div>"
      ],
      "text/plain": [
       "DecisionTreeClassifier()"
      ]
     },
     "execution_count": 18,
     "metadata": {},
     "output_type": "execute_result"
    }
   ],
   "source": [
    "model = DecisionTreeClassifier()\n",
    "model.fit(X_train, Y_train)"
   ]
  },
  {
   "cell_type": "markdown",
   "id": "1d8ed2c6",
   "metadata": {
    "papermill": {
     "duration": 0.008982,
     "end_time": "2024-08-19T10:31:46.719531",
     "exception": false,
     "start_time": "2024-08-19T10:31:46.710549",
     "status": "completed"
    },
    "tags": []
   },
   "source": [
    "#### Predict Results"
   ]
  },
  {
   "cell_type": "code",
   "execution_count": 19,
   "id": "f0560729",
   "metadata": {
    "execution": {
     "iopub.execute_input": "2024-08-19T10:31:46.740433Z",
     "iopub.status.busy": "2024-08-19T10:31:46.739468Z",
     "iopub.status.idle": "2024-08-19T10:31:46.749409Z",
     "shell.execute_reply": "2024-08-19T10:31:46.748256Z"
    },
    "papermill": {
     "duration": 0.023103,
     "end_time": "2024-08-19T10:31:46.751906",
     "exception": false,
     "start_time": "2024-08-19T10:31:46.728803",
     "status": "completed"
    },
    "tags": []
   },
   "outputs": [],
   "source": [
    "y_pred = model.predict(X_test)"
   ]
  },
  {
   "cell_type": "code",
   "execution_count": 20,
   "id": "9427f492",
   "metadata": {
    "execution": {
     "iopub.execute_input": "2024-08-19T10:31:46.772307Z",
     "iopub.status.busy": "2024-08-19T10:31:46.771701Z",
     "iopub.status.idle": "2024-08-19T10:31:46.791868Z",
     "shell.execute_reply": "2024-08-19T10:31:46.790002Z"
    },
    "papermill": {
     "duration": 0.033377,
     "end_time": "2024-08-19T10:31:46.794460",
     "exception": false,
     "start_time": "2024-08-19T10:31:46.761083",
     "status": "completed"
    },
    "tags": []
   },
   "outputs": [
    {
     "name": "stdout",
     "output_type": "stream",
     "text": [
      "Accuracy: 0.9791666666666666\n",
      "Classification Score:\n",
      "               precision    recall  f1-score   support\n",
      "\n",
      "           0       0.98      0.93      0.96       103\n",
      "           1       0.70      0.93      0.80        15\n",
      "           2       1.00      1.00      1.00       294\n",
      "           3       1.00      0.95      0.97        20\n",
      "\n",
      "    accuracy                           0.98       432\n",
      "   macro avg       0.92      0.95      0.93       432\n",
      "weighted avg       0.98      0.98      0.98       432\n",
      "\n"
     ]
    }
   ],
   "source": [
    "accuracy = accuracy_score(Y_test,y_pred)\n",
    "print(\"Accuracy:\", accuracy)\n",
    "\n",
    "report=classification_report(Y_test,y_pred)\n",
    "print(\"Classification Score:\\n\",report)"
   ]
  },
  {
   "cell_type": "markdown",
   "id": "ceeab0e2",
   "metadata": {
    "papermill": {
     "duration": 0.009029,
     "end_time": "2024-08-19T10:31:46.812758",
     "exception": false,
     "start_time": "2024-08-19T10:31:46.803729",
     "status": "completed"
    },
    "tags": []
   },
   "source": [
    "# Check overfitting or underfitting\n"
   ]
  },
  {
   "cell_type": "code",
   "execution_count": 21,
   "id": "ecc2e025",
   "metadata": {
    "execution": {
     "iopub.execute_input": "2024-08-19T10:31:46.833954Z",
     "iopub.status.busy": "2024-08-19T10:31:46.832826Z",
     "iopub.status.idle": "2024-08-19T10:31:46.862593Z",
     "shell.execute_reply": "2024-08-19T10:31:46.861089Z"
    },
    "papermill": {
     "duration": 0.043472,
     "end_time": "2024-08-19T10:31:46.865546",
     "exception": false,
     "start_time": "2024-08-19T10:31:46.822074",
     "status": "completed"
    },
    "tags": []
   },
   "outputs": [
    {
     "name": "stdout",
     "output_type": "stream",
     "text": [
      "Training Accuracy: 1.0\n",
      "Testing Accuracy: 0.9791666666666666\n",
      "\n",
      "Training Classification Report:\n",
      "               precision    recall  f1-score   support\n",
      "\n",
      "           0       1.00      1.00      1.00       281\n",
      "           1       1.00      1.00      1.00        54\n",
      "           2       1.00      1.00      1.00       916\n",
      "           3       1.00      1.00      1.00        45\n",
      "\n",
      "    accuracy                           1.00      1296\n",
      "   macro avg       1.00      1.00      1.00      1296\n",
      "weighted avg       1.00      1.00      1.00      1296\n",
      "\n",
      "\n",
      "Testing Classification Report:\n",
      "               precision    recall  f1-score   support\n",
      "\n",
      "           0       0.98      0.93      0.96       103\n",
      "           1       0.70      0.93      0.80        15\n",
      "           2       1.00      1.00      1.00       294\n",
      "           3       1.00      0.95      0.97        20\n",
      "\n",
      "    accuracy                           0.98       432\n",
      "   macro avg       0.92      0.95      0.93       432\n",
      "weighted avg       0.98      0.98      0.98       432\n",
      "\n"
     ]
    }
   ],
   "source": [
    "# Predict on training and testing data\n",
    "y_train_pred = model.predict(X_train)\n",
    "y_test_pred = model.predict(X_test)\n",
    "\n",
    "# Calculate accuracy\n",
    "train_accuracy = accuracy_score(Y_train, y_train_pred)\n",
    "test_accuracy = accuracy_score(Y_test, y_test_pred)\n",
    "\n",
    "print(\"Training Accuracy:\", train_accuracy)\n",
    "print(\"Testing Accuracy:\", test_accuracy)\n",
    "\n",
    "# Print detailed classification reports\n",
    "print(\"\\nTraining Classification Report:\\n\", classification_report(Y_train, y_train_pred))\n",
    "print(\"\\nTesting Classification Report:\\n\", classification_report(Y_test, y_test_pred))"
   ]
  },
  {
   "cell_type": "markdown",
   "id": "3e8e4f8b",
   "metadata": {
    "papermill": {
     "duration": 0.009153,
     "end_time": "2024-08-19T10:31:46.884236",
     "exception": false,
     "start_time": "2024-08-19T10:31:46.875083",
     "status": "completed"
    },
    "tags": []
   },
   "source": [
    " model performs very well, with only a small amount of overfitting"
   ]
  },
  {
   "cell_type": "code",
   "execution_count": 22,
   "id": "63bfddc7",
   "metadata": {
    "execution": {
     "iopub.execute_input": "2024-08-19T10:31:46.905643Z",
     "iopub.status.busy": "2024-08-19T10:31:46.904383Z",
     "iopub.status.idle": "2024-08-19T10:31:47.164919Z",
     "shell.execute_reply": "2024-08-19T10:31:47.163500Z"
    },
    "papermill": {
     "duration": 0.274985,
     "end_time": "2024-08-19T10:31:47.168442",
     "exception": false,
     "start_time": "2024-08-19T10:31:46.893457",
     "status": "completed"
    },
    "tags": []
   },
   "outputs": [
    {
     "data": {
      "image/png": "[encoded data removed]",
      "text/plain": [
       "<Figure size 800x600 with 1 Axes>"
      ]
     },
     "metadata": {},
     "output_type": "display_data"
    }
   ],
   "source": [
    "plt.figure(figsize=(8, 6))\n",
    "plt.plot(['Training', 'Testing'], [train_accuracy, test_accuracy], marker='o', color='blue')\n",
    "plt.title('Training vs Testing Accuracy')\n",
    "plt.ylabel('Accuracy')\n",
    "plt.show()"
   ]
  }
 ],
 "metadata": {
  "kaggle": {
   "accelerator": "none",
   "dataSources": [
    {
     "datasetId": 2298,
     "sourceId": 3884,
     "sourceType": "datasetVersion"
    }
   ],
   "dockerImageVersionId": 30746,
   "isGpuEnabled": false,
   "isInternetEnabled": false,
   "language": "python",
   "sourceType": "notebook"
  },
  "kernelspec": {
   "display_name": "Python 3",
   "language": "python",
   "name": "python3"
  },
  "language_info": {
   "codemirror_mode": {
    "name": "ipython",
    "version": 3
   },
   "file_extension": ".py",
   "mimetype": "text/x-python",
   "name": "python",
   "nbconvert_exporter": "python",
   "pygments_lexer": "ipython3",
   "version": "3.10.13"
  },
  "papermill": {
   "default_parameters": {},
   "duration": 8.352257,
   "end_time": "2024-08-19T10:31:48.105235",
   "environment_variables": {},
   "exception": null,
   "input_path": "__notebook__.ipynb",
   "output_path": "__notebook__.ipynb",
   "parameters": {},
   "start_time": "2024-08-19T10:31:39.752978",
   "version": "2.5.0"
  }
 },
 "nbformat": 4,
 "nbformat_minor": 5
}
